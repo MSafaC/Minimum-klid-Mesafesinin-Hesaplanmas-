import math

points = [(7, 0), (8, 3), (1, 6), (9, 5)]

def euclideanDistance(point1, point2):
    a1, b1 = point1
    a2, b2 = point2
    return math.sqrt((a2 - a1) ** 2 + (b2 - b1) ** 2)

distances = []
for i in range(len(points)):
    for j in range(i + 1, len(points)):
        distance = euclideanDistance(points[i], points[j])
        distances.append(distance)
#minimum mesafenin hesaplanması
min_distance = min(distances)
print("Minimum mesafe:", min_distance)
print("Tüm mesafeler:" , distances)
